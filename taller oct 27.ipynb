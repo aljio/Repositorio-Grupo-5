{
  "nbformat": 4,
  "nbformat_minor": 0,
  "metadata": {
    "colab": {
      "provenance": [],
      "collapsed_sections": []
    },
    "kernelspec": {
      "name": "python3",
      "display_name": "Python 3"
    },
    "language_info": {
      "name": "python"
    }
  },
  "cells": [
    {
      "cell_type": "code",
      "execution_count": null,
      "metadata": {
        "colab": {
          "base_uri": "https://localhost:8080/"
        },
        "id": "zFJJx_19o9pz",
        "outputId": "05991026-a30d-4787-dbb5-73b7ecb42258"
      },
      "outputs": [
        {
          "output_type": "stream",
          "name": "stdout",
          "text": [
            "¿Como te llamasJohan\n",
            "Edad:17\n",
            "Direccioncra ,asbhdabsd\n",
            "Telefono3142968931\n",
            "Johan tiene 17 vive en cra ,asbhdabsd y su numero de telefono es 3142968931\n"
          ]
        }
      ],
      "source": [
        "nombre=(input(\"Nombre: \"))\n",
        "edad=(input(\"Edad: \"))\n",
        "direccion=(input(\"Direccion: \"))\n",
        "telefono=(input(\"Telefono: \"))\n",
        "\n",
        "diccionario = {}\n",
        "diccionario[\"nombre\"] = nombre\n",
        "diccionario[\"edad\"] = edad\n",
        "diccionario[\"dirección\"] = direccion\n",
        "diccionario[\"telefono\"] = telefono\n",
        "\n",
        "print(diccionario[\"nombre\"], \"tiene\", diccionario[\"edad\"], \"años, vive en la\", diccionario[\"dirección\"], \"y su numero de telefono es\", diccionario[\"telefono\"])\n"
      ]
    },
    {
      "cell_type": "code",
      "source": [
        "import time\n",
        "\n",
        "t = (2004, 9, 15, 0, 0, 0, 0, 0, 0)\n",
        "\n",
        "local_time = time.mktime(t)\n",
        "print(\"Local time:\", local_time)\n",
        "print(time.gmtime(time.time()))\n",
        "a = []\n",
        "for i in range(len(time.gmtime(time.time()))):\n",
        "  a.append(time.gmtime(time.time())[i]- time.gmtime(local_time)[i])  #Obtenemos el tiempo que ha pasado desde el nacimiento\n",
        "\n",
        "print(a)\n",
        "\n",
        "for i in range(len(a)):\n",
        "  if a[i] < 0 and i == 1:\n",
        "    a[i-1] = a[i-1] - 1\n",
        "    a[i] += 12\n",
        "  elif a[i] < 0 and i == 2:         #Obtenemos los datos verdaderos en Años, Meses y Días\n",
        "    a[i-1] = a[i-1] - 1\n",
        "    a[i] += 30\n",
        "  elif i > 3:\n",
        "    a[i]=0\n",
        "  \n",
        "dias = 0\n",
        "\n",
        "for i in range(len(a)):\n",
        "  if i == 0:\n",
        "    dias += a[i] * 365\n",
        "  elif i == 1:\n",
        "    dias += a[i] * 30         #Obtenemos los días totales vividos, sumando la multiplicación de los años vividos po 365,\n",
        "  elif i == 3:                    #los meses por 30 y los dias\n",
        "    dias += a[i]\n",
        "  \n",
        "b = tuple(a)\n",
        "    \n",
        "print(b)\n",
        "print(dias)\n",
        "\n",
        "print(time.gmtime(-(time.time() - local_time)))"
      ],
      "metadata": {
        "colab": {
          "base_uri": "https://localhost:8080/"
        },
        "id": "jeDknvJNvAbS",
        "outputId": "629d4899-81a3-452a-e44b-9cc1d952f025"
      },
      "execution_count": null,
      "outputs": [
        {
          "output_type": "stream",
          "name": "stdout",
          "text": [
            "Local time: 1095206400.0\n",
            "time.struct_time(tm_year=2022, tm_mon=10, tm_mday=25, tm_hour=20, tm_min=31, tm_sec=30, tm_wday=1, tm_yday=298, tm_isdst=0)\n",
            "[18, 1, 10, 20, 31, 30, -1, 39, 0]\n",
            "(18, 1, 10, 20, 0, 0, 0, 0, 0)\n",
            "6620\n",
            "time.struct_time(tm_year=1951, tm_mon=11, tm_mday=22, tm_hour=3, tm_min=28, tm_sec=29, tm_wday=3, tm_yday=326, tm_isdst=0)\n"
          ]
        }
      ]
    },
    {
      "cell_type": "code",
      "source": [
        "diccionario_datos = {}   \n",
        "diccionario_personas = {}   \n",
        "personas=   0   \n",
        "bandera = True\n",
        "while bandera:      \n",
        "  edad=( input (   \"¿Cual es tu edad?: \"   ))   \n",
        "  can_hermanos=( input (   \"¿Cantidad de hermanos?: \"   ))   \n",
        "  num_alt=( input (   \"Numero ocasional: \"   ))\n",
        "\n",
        "\n",
        "  diccionario_datos = {} \n",
        "  diccionario_datos[ \"Edad\" ] = edad \n",
        "  diccionario_datos[ \"Cantitad de hermanos\" ] = can_hermanos \n",
        "  diccionario_datos[ \"Número ocasional\" ] = num_alt \n",
        "  diccionario_personas[personas] = diccionario_datos \n",
        "  personas+= 1 \n",
        "  p= input ( \"quieres continuar?: s o n: \") \n",
        " \n",
        "  if  p ==  \"n\":\n",
        "    bandera = False\n",
        "    \n",
        "print( \"\\nPrimer estudiante:\\n\")\n",
        "for key, values in diccionario_personas[min(diccionario_personas)].items():\n",
        "  print(key, \"\\t\",values)\n",
        "\n",
        "print(\"\\nÚltimo estudiante:\\n\")\n",
        "for key, values in diccionario_personas[max(diccionario_personas)].items():\n",
        "  print(key, \"\\t\",values)\n",
        "\n",
        "\n"
      ],
      "metadata": {
        "colab": {
          "base_uri": "https://localhost:8080/"
        },
        "id": "w1YUf0GK2MmF",
        "outputId": "74580e15-4538-4d0e-c30e-a5603911d49e"
      },
      "execution_count": null,
      "outputs": [
        {
          "output_type": "stream",
          "name": "stdout",
          "text": [
            "¿Cual es tu edad?: 15\n",
            "¿Cantidad de hermanos?: 2\n",
            "Numero ocasional: 9\n",
            "quieres continuar?: s o n: s\n",
            "¿Cual es tu edad?: 1\n",
            "¿Cantidad de hermanos?: 0\n",
            "Numero ocasional: 6\n",
            "quieres continuar?: s o n: n\n",
            "\n",
            "Primer estudiante:\n",
            "\n",
            "Edad \t 15\n",
            "Cantitad de hermanos \t 2\n",
            "Número ocasional \t 9\n",
            "\n",
            "Último estudiante:\n",
            "\n",
            "Edad \t 1\n",
            "Cantitad de hermanos \t 0\n",
            "Número ocasional \t 6\n"
          ]
        }
      ]
    }
  ]
}