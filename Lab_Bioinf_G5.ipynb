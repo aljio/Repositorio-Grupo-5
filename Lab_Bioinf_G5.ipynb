{
  "nbformat": 4,
  "nbformat_minor": 0,
  "metadata": {
    "colab": {
      "provenance": [],
      "collapsed_sections": []
    },
    "kernelspec": {
      "name": "python3",
      "display_name": "Python 3"
    },
    "language_info": {
      "name": "python"
    }
  },
  "cells": [
    {
      "cell_type": "markdown",
      "source": [
        "Laboratorio grupal\n",
        "Fecha de entrega 23/10/22 a las 24:00"
      ],
      "metadata": {
        "id": "ldOFfF-qgsGa"
      }
    },
    {
      "cell_type": "markdown",
      "metadata": {
        "id": "PN2iwWS5f9Qi"
      },
      "source": [
        "Secueencia del Genoma Viral de referencia Sars-Cov 2\n",
        "https://www.ncbi.nlm.nih.gov/nuccore/1798174254\n",
        "\n",
        "\n",
        "\n",
        "\n"
      ]
    },
    {
      "cell_type": "code",
      "source": [
        "from google.colab import drive\n",
        "drive.mount('/content/drive')"
      ],
      "metadata": {
        "colab": {
          "base_uri": "https://localhost:8080/"
        },
        "id": "GLvnOHU9kl_w",
        "outputId": "74de03f4-4558-40e0-ac7e-f3dc586f497f"
      },
      "execution_count": null,
      "outputs": [
        {
          "output_type": "stream",
          "name": "stdout",
          "text": [
            "Mounted at /content/drive\n"
          ]
        }
      ]
    },
    {
      "cell_type": "code",
      "source": [
        "with open('/content/drive/MyDrive/sequence.fasta') as f:\n",
        "  lines = f.readlines()\n",
        "secuence=''\n",
        "  \n",
        "for l in lines[1:]:#slice, para comenzar desde el segundo elemento\n",
        "  secuence+=l[:-1]"
      ],
      "metadata": {
        "id": "LY87ppDaPlas"
      },
      "execution_count": null,
      "outputs": []
    },
    {
      "cell_type": "code",
      "source": [
        "def buscar(problema, target):\n",
        "  for i in range(len(target) - len(problema)):    #bucle desde 0 hasta la resta de longitudes para evitar errores de rango\n",
        "    if (target[i:len(problema) + i] == problema):   #vamos mirando el target con longitud del problema y le vamos añadiendo 1 para mirar todas las posibilidades \n",
        "      return i, i + len(problema)                          #si esta es igual a la cadena problema, encomtramos la posicion inicial, la final es la misma sumada \n",
        "                                                                        #con la lungitud del problema\n",
        "buscar(\"AATGAATTCTCGTAACTACATAGCACAAGTAGA\", secuence)"
      ],
      "metadata": {
        "colab": {
          "base_uri": "https://localhost:8080/"
        },
        "id": "FScB42CJk9v0",
        "outputId": "5320ec78-30c4-4e5d-8cc7-bd2cbc37cc79"
      },
      "execution_count": null,
      "outputs": [
        {
          "output_type": "execute_result",
          "data": {
            "text/plain": [
              "(29616, 29649)"
            ]
          },
          "metadata": {},
          "execution_count": 3
        }
      ]
    },
    {
      "cell_type": "markdown",
      "metadata": {
        "id": "YjlJOiQSi8MV"
      },
      "source": [
        "Ejemplo Bioinformático de busqueda por metodo de fuerza bruta\n"
      ]
    },
    {
      "cell_type": "markdown",
      "metadata": {
        "id": "6mYeh2-zj1SM"
      },
      "source": [
        "##Encuentre la posición inicial y final de el segmento \"problema\" en el \"target\", esta secuencia se encuentra dividida por grupos en el [enlace](https://docs.google.com/spreadsheets/d/1E7z_U1dVHA1WfVPTvauQNYU62tMA2dljRnX_lpS63Zg/edit#gid=1780367627)\n",
        "\n",
        "* Desarrollar la actividad en grupos\n",
        "* Comentar su codigo '#'\n",
        "* use la declaración de funciones\n",
        "* usar la palabra recervada with en la lectura del archivo\n",
        "* retornar la posición inicial y final, en una tupla\n",
        "* Subir .ipynb al repositorio de GitHub del estudiante seleccionado por grupo Nombre: Lab_bioinf-G1.ipynb\n"
      ]
    },
    {
      "cell_type": "code",
      "source": [
        "ejemplo='actctatatctctactgtatatch'\n",
        "print(len(ejemplo))\n",
        "print(ejemplo.find('h'))#su algoritmo debe trabajar suando declaración de funciones\n",
        "#su diseño debe aplicar este formato\n",
        "#> pos_in_fi=funcion_creada_por_grupo1(target,problema)\n",
        "#> print(pos_in_fi)---->por consola imprimira ----> (28,67)#ejemplo"
      ],
      "metadata": {
        "colab": {
          "base_uri": "https://localhost:8080/"
        },
        "id": "9Tp0Ji-g6rJV",
        "outputId": "3b607a30-adfb-4821-f745-2130fdf82f53"
      },
      "execution_count": null,
      "outputs": [
        {
          "output_type": "stream",
          "name": "stdout",
          "text": [
            "24\n",
            "23\n"
          ]
        }
      ]
    }
  ]
}