{
  "nbformat": 4,
  "nbformat_minor": 0,
  "metadata": {
    "colab": {
      "provenance": [],
      "collapsed_sections": []
    },
    "kernelspec": {
      "name": "python3",
      "display_name": "Python 3"
    },
    "language_info": {
      "name": "python"
    }
  },
  "cells": [
    {
      "cell_type": "code",
      "execution_count": null,
      "metadata": {
        "id": "LIMfmGnooA1J",
        "colab": {
          "base_uri": "https://localhost:8080/"
        },
        "outputId": "6bf66a53-b91f-49e0-9e33-898563220c09"
      },
      "outputs": [
        {
          "output_type": "stream",
          "name": "stdout",
          "text": [
            "digite un numero entero\n",
            "87687687\n",
            "Su numero es impar\n"
          ]
        }
      ],
      "source": [
        "#Punto 1, Alejandro Pulido Sánchez\n",
        "a=0 #se inicializa la variable 1\n",
        "b=0 #se inicializa la variable 2\n",
        "print(\"digite un numero entero\") #se muestra en pantalla lo que el usuario debe escribir\n",
        "a=int(input()) #se pide la entrada de la variable, y al mismo tiempo se define como un numero entero\n",
        "b=a%2 #se hace la operacion matematica de modulo, la cual arroja el residuo de la division. Por matematicas, al dividir en 2, si hay residuo de 1, el numero es impar, y si el residuo es cero, el numero es par\n",
        "if b==1: #se pregunta si hay residuo de 1\n",
        "    print(\"Su numero es impar\") #si hay residuo de uno, se le muestra en pantalla al usuario que el numero que ingresó es impar\n",
        "else: #como esta en este caso la ley del tercero excluido, se puede usar el caso de, si no, entonces es el otro caso posible\n",
        "    print(\"Su numero es par\") #si no hay residuo de uno, se le muestra en pantalla al usuario que el numero que ingresó es par"
      ]
    },
    {
      "cell_type": "code",
      "source": [
        "#Punto 2, Johan Lozano\n",
        "valor = True\n",
        "\n",
        "numero = float(input(\"Digite un múmero: \")) #Pedimos un número que puede ser decimal\n",
        "\n",
        "while (valor): #Bucle a repetir si el porcentaje está fuera de rango\n",
        "  porcentaje = float(input(\"Digite el porcentaje que le quiera calcular: \")) #Aquí se almacena el porcentaje\n",
        "\n",
        "  if (porcentaje > 100 or porcentaje < 0): #Si el porcentaje no está entre 0 y 100\n",
        "    print(\"El porcentaje ingresado no es válido. Vuelva a ingresarlo\")\n",
        "  else:\n",
        "    valor = False #No se vuelve a pedir el porcentaje si es un valor correcto\n",
        "\n",
        "numero2 = numero * porcentaje/100 #Calculamos el porcentaje del numero dado\n",
        "print(\"El\", porcentaje, \"% de\", numero, \"es:\", numero2) #Imprimimos el resultado :D\n"
      ],
      "metadata": {
        "id": "Eupsq6GGSoct",
        "colab": {
          "base_uri": "https://localhost:8080/"
        },
        "outputId": "22a4e20e-e7e9-4700-af83-7b5cacaa0bf3"
      },
      "execution_count": null,
      "outputs": [
        {
          "output_type": "stream",
          "name": "stdout",
          "text": [
            "Digite un múmero: 10\n",
            "Digite el porcentaje que le quiera calcular: 90\n",
            "El 90.0 % de 10.0 es: 9.0\n"
          ]
        }
      ]
    },
    {
      "cell_type": "code",
      "source": [
        "#Punto 3, Jhohan Vargas\n",
        "numero = int(input(\"Ingresa un número \")) #Se define la variable numero que vamos a utilizar.\n",
        "# así mismo ponemos int(input)) para que el usuario ingrese un valor\n",
        "\n",
        "if numero % 2==0: #Colocamos if para que si se cumple una condición como es la variable numero.\n",
        "# la clave está en utilizar la operación módulo (%), que calcula el resto de una división entera: si un entero es divisible por dos, es par; si no, impar \n",
        "\n",
        "    print(\"su número es par, y los numero pares antes de el son\")  #Ponemos print para que, si se cumple la condición diga su numero es par\n",
        "# y los numero pares antes de el son\n",
        "\n",
        "    for j in range(2,numero,2): #utilizando la variable for con j definimos un conjunto que se dara finitamente.\n",
        "# ahora utilizando range pondremos un rango que comience desde dos, y haga sucesiones con la cantidad definida en numero.\n",
        "# dando un salto de dos en dos gracias al ,2 al final\n",
        "      print(j) #ponemos el resultado de ese rango en for en la pantalla\n",
        "else: \n",
        "  print(\"El numero es impar\") #si no se cumple la condición se dirá que el numero es impar y terminara el proceso"
      ],
      "metadata": {
        "id": "oRVpg86hsDTy",
        "colab": {
          "base_uri": "https://localhost:8080/"
        },
        "outputId": "81565dcf-3b69-4a95-cb1f-e924a95b7ecb"
      },
      "execution_count": null,
      "outputs": [
        {
          "output_type": "stream",
          "name": "stdout",
          "text": [
            "Ingresa un número 24\n",
            "su número es par, y los numero pares antes de el son\n",
            "2\n",
            "4\n",
            "6\n",
            "8\n",
            "10\n",
            "12\n",
            "14\n",
            "16\n",
            "18\n",
            "20\n",
            "22\n"
          ]
        }
      ]
    },
    {
      "cell_type": "code",
      "source": [
        "#Punto 4, Andres Cardona:Escriba un algoritmo que dado un número entero, entregue la suma de todos los números entre el 0 y el número dado.\n",
        "#Ejemplo Ejecución:\n",
        "#\t\t>escriba un número entero cualquiera:\n",
        "#\t5\n",
        "#La sumatoria de 0 a n es:\n",
        "#1+2+3+4+5=15\n",
        "print(\"ingrese el numero\") #Se pide al usuario que ingrese un numero\n",
        "numero =(int(input())) #El numero ingresado por el usuario se guarda en la variable \"numero\" y se especifica como valor entero\n",
        "suma = 0 #Se tiene la variable \"suma\" que se inicializa en 0\n",
        "contador = 1 #Se tiene la variable \"contador\" para aumentar 1 numero cada vez que se repita el bucle\n",
        "while contador<=numero: #Se usa el bucle while para especificar que la variable contador solo llegara hasta el numero que escribio el usuario\n",
        "\t\tsuma+=contador #Se sumara el valor de la variable contador al resultado final\n",
        "\t\tcontador+=1 #Cada vez que se repita el bucle el contador sumara 1 a su valor\n",
        "print(\"El sumatoria de 0 a\",numero, \"es:\",suma)#Se imprime el resultado de la suma de todos los numeros anteriores al numero que escribio el usuario"
      ],
      "metadata": {
        "colab": {
          "base_uri": "https://localhost:8080/"
        },
        "id": "qcP97WYeUUr6",
        "outputId": "a880d500-fbba-4930-df3c-95a22146e659"
      },
      "execution_count": null,
      "outputs": [
        {
          "output_type": "stream",
          "name": "stdout",
          "text": [
            "ingrese el numero\n",
            "100\n",
            "El sumatoria de 0 a 100 es: 5050\n"
          ]
        }
      ]
    }
  ]
}